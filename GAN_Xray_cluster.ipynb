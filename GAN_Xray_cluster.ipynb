{
 "cells": [
  {
   "cell_type": "markdown",
   "metadata": {},
   "source": [
    "# How to (LS)GAN galaxy clusters\n",
    "\n",
    "In this tutorial we will learn how to implement a Least-Squares GAN using tensorflow.keras. Step-by-step, we are going to: \n",
    "\n",
    "1) Explore images of galaxy clusters as measured at X-ray wavelengths\n",
    "\n",
    "2) Prepare our data for GAN training\n",
    "\n",
    "3) Set up both the generator and discriminator model\n",
    "\n",
    "4) Generate the noise that the GAN will use to create images from\n",
    "\n",
    "5) Train our LSGAN model and explore possible improvements\n",
    "\n",
    "\n",
    "### Data\n",
    "The data we are using were generated (Comparat et al. 2020, https://arxiv.org/abs/2008.08404) to simulate exptected imaging of galaxy clusters at X-ray wavelengths for the eROSITA telescope (https://erosita.mpe.mpg.de/).\n",
    "\n",
    "\n",
    "### General remarks\n",
    "Using GPU is recommended for this task, nevertheless, it should run albeit slowly on CPU."
   ]
  },
  {
   "cell_type": "code",
   "execution_count": 1,
   "metadata": {},
   "outputs": [],
   "source": [
    "# some packages that we will need\n",
    "import numpy as np\n",
    "import matplotlib.pyplot as plt \n",
    "from matplotlib import cm\n",
    "from tensorflow import keras\n",
    "import scipy"
   ]
  },
  {
   "cell_type": "markdown",
   "metadata": {},
   "source": [
    "## 1) Load data from Sample File with Galaxy Cluster Images\n",
    "\n",
    "The data file prepared is a smaller subset of the full data available.\n",
    "\n",
    "Question: What do you notice about the data? What needs to be done in order to be able to input it to a network?"
   ]
  },
  {
   "cell_type": "code",
   "execution_count": 2,
   "metadata": {},
   "outputs": [
    {
     "name": "stdout",
     "output_type": "stream",
     "text": [
      "No. of images:  3867\n"
     ]
    },
    {
     "data": {
      "image/png": "[encoded data removed]",
      "text/plain": [
       "<Figure size 432x288 with 9 Axes>"
      ]
     },
     "metadata": {
      "needs_background": "light"
     },
     "output_type": "display_data"
    }
   ],
   "source": [
    "data = np.load('imagedata_cuts.npy')\n",
    "N_image = data.shape[0]\n",
    "print('No. of images: ', N_image)\n",
    "\n",
    "# let's have a look at some images\n",
    "i=0\n",
    "n_axis = 3\n",
    "n_samples = n_axis*n_axis\n",
    "    \n",
    "for i in range(n_samples):\n",
    "    plt.subplot(n_axis, n_axis, 1 + i)\n",
    "    plt.axis('off')\n",
    "    #print(data[np.random.randint(0,1000)].shape)\n",
    "    plt.imshow(data[np.random.randint(0,1000)], cmap='gray',norm=cm.colors.LogNorm(vmin=3e-7,vmax=0.025))\n",
    "plt.show()"
   ]
  },
  {
   "cell_type": "markdown",
   "metadata": {},
   "source": [
    "## 2) Rescale images\n",
    "\n",
    "### Task: \n",
    "Normalise the images in such a way they can be useful for network training. "
   ]
  },
  {
   "cell_type": "code",
   "execution_count": null,
   "metadata": {},
   "outputs": [],
   "source": [
    "j=0 \n",
    "scale = True \n",
    "resizedimages = []\n",
    "eps = 1e-14\n",
    "im_size = 28\n",
    "\n",
    "# we chose a minmax log-scaling here\n",
    "while j< N_image:\n",
    "    img = data[j]+eps\n",
    "    if scale == True:\n",
    "       img = -np.log(img)\n",
    "       mincrop = np.min(img)\n",
    "       maxcrop = np.max(img)\n",
    "       if (maxcrop-mincrop)!=0.0:\n",
    "           img = 1.0-1.0*(img-mincrop)/(maxcrop-mincrop)\n",
    "    imgsave = np.array(img)\n",
    "    del(img)\n",
    "    resizedimages.append(imgsave)\n",
    "    j=j+1\n",
    "    \n",
    "# let's have a look again at images rescaled to [0,1]\n",
    "i=0\n",
    "for i in range(n_samples):\n",
    "    plt.subplot(n_axis, n_axis, 1 + i)\n",
    "    plt.axis('off')\n",
    "    #print(data[np.random.randint(0,1000)].shape)\n",
    "    plt.imshow(resizedimages[np.random.randint(0,1000)], cmap='gray')\n",
    "plt.show()"
   ]
  },
  {
   "cell_type": "markdown",
   "metadata": {},
   "source": [
    "## 3a) Generator model\n",
    "\n",
    "### Task:\n",
    "Set up a generator model based on convolutional layers that is suitable to generate images of the dimension desired."
   ]
  },
  {
   "cell_type": "code",
   "execution_count": null,
   "metadata": {
    "scrolled": true
   },
   "outputs": [],
   "source": [
    "def generator_model(latent_dim):\n",
    "    model = keras.models.Sequential()\n",
    "    # start with 7x7 image\n",
    "    n_nodes = latent_dim * 7 * 7\n",
    "    model.add(keras.layers.Dense(n_nodes, input_dim=latent_dim))\n",
    "    model.add(keras.layers.LeakyReLU(alpha=0.2))\n",
    "    model.add(keras.layers.Reshape((7, 7, latent_dim)))\n",
    "    # upsample to 14x14\n",
    "    model.add(keras.layers.Conv2DTranspose(latent_dim, (4,4), strides=(2,2), padding='same'))\n",
    "    model.add(keras.layers.LeakyReLU(alpha=0.2))\n",
    "    # upsample to 28x28\n",
    "    model.add(keras.layers.Conv2DTranspose(latent_dim, (4,4), strides=(2,2), padding='same'))\n",
    "    model.add(keras.layers.LeakyReLU(alpha=0.2))\n",
    "    model.add(keras.layers.Conv2D(1, (7,7), activation='sigmoid', padding='same'))\n",
    "    model.add(keras.layers.Activation('tanh'))\n",
    "    return model"
   ]
  },
  {
   "cell_type": "code",
   "execution_count": null,
   "metadata": {
    "scrolled": true
   },
   "outputs": [],
   "source": [
    "latent_size = 128\n",
    "g = generator_model(latent_size)\n",
    "g.summary()\n",
    "# the generator is compiled as part of the full GAN model later\n",
    "g_opt = keras.optimizers.Adam(learning_rate=1e-4, beta_1=0.5)\n",
    "g.compile(loss='mse', optimizer=g_opt, metrics=['accuracy'])"
   ]
  },
  {
   "cell_type": "markdown",
   "metadata": {},
   "source": [
    "## 3b) Discriminator model\n",
    "\n",
    "### Task:\n",
    "Set up a discriminator model based on convolutional layers that is suitable to evaluate images of the desired dimension. Choose a final activation function that makes sense for a mean squared loss. "
   ]
  },
  {
   "cell_type": "code",
   "execution_count": null,
   "metadata": {},
   "outputs": [],
   "source": [
    "def discriminator_model(in_shape=(im_size,im_size,1)):\n",
    "    model = keras.models.Sequential()\n",
    "    model.add(keras.layers.Conv2D(64, (3,3), strides=(2, 2), padding='same', input_shape=in_shape))\n",
    "    model.add(keras.layers.LeakyReLU(alpha=0.2))\n",
    "    model.add(keras.layers.Dropout(0.4))\n",
    "    model.add(keras.layers.Conv2D(64, (3,3), strides=(2, 2), padding='same'))\n",
    "    model.add(keras.layers.LeakyReLU(alpha=0.2))\n",
    "    model.add(keras.layers.Dropout(0.4))\n",
    "    model.add(keras.layers.Flatten())\n",
    "    model.add(keras.layers.Dense(1, activation='linear'))\n",
    "    opt = keras.optimizers.Adam(lr=0.00001, beta_1=0.5)\n",
    "    model.compile(loss='mse', optimizer=opt, metrics=['accuracy'])\n",
    "    return model"
   ]
  },
  {
   "cell_type": "code",
   "execution_count": null,
   "metadata": {},
   "outputs": [],
   "source": [
    "# check the model summary\n",
    "d = discriminator_model()\n",
    "d.summary()\n",
    "# compile the discriminator\n",
    "d_opt = keras.optimizers.Adam(learning_rate=1e-4, beta_1=0.5)\n",
    "d.compile(loss='mse', optimizer=d_opt, metrics=['accuracy'])"
   ]
  },
  {
   "cell_type": "markdown",
   "metadata": {},
   "source": [
    "## 4) Noise and sample generation\n",
    "\n",
    "### Task\n",
    "Generate random noise to be used as a generator input. Prepare for the generation of real and fake samples. "
   ]
  },
  {
   "cell_type": "code",
   "execution_count": null,
   "metadata": {},
   "outputs": [],
   "source": [
    "# generate points in latent space as input for the generator\n",
    "def generate_latent_points(latent_dim, n_samples):\n",
    "    # generate points in the latent space\n",
    "    x_input = np.random.randn(latent_dim * n_samples)\n",
    "    # reshape into a batch of inputs for the network\n",
    "    x_input = x_input.reshape(n_samples, latent_dim)\n",
    "    return x_input\n",
    " \n",
    "# use the generator to generate n fake examples\n",
    "# with class labels 0 for generated images)\n",
    "def generate_fake_samples(g_model, latent_dim, n_samples):\n",
    "    # generate points in latent space\n",
    "    x_input = generate_latent_points(latent_dim, n_samples)\n",
    "    # predict outputs\n",
    "    X = g_model.predict(x_input)\n",
    "    # add class labels (0)\n",
    "    y = np.zeros((n_samples, 1))\n",
    "    return X, y\n",
    "\n",
    "# draw and label real sample\n",
    "def generate_real_samples(dataset, n_samples):\n",
    "    # choose random instances\n",
    "    n_samples = int(n_samples)\n",
    "    lendata = int(len(dataset))\n",
    "    ix = np.random.randint(0, lendata, n_samples)\n",
    "    dataset = np.array(dataset)\n",
    "    # retrieve selected images\n",
    "    X = dataset[ix]\n",
    "    X = np.expand_dims(X, axis = -1)\n",
    "    # generate 'real' class labels (1)\n",
    "    y = np.ones((n_samples, 1))\n",
    "    return X, y"
   ]
  },
  {
   "cell_type": "code",
   "execution_count": null,
   "metadata": {},
   "outputs": [],
   "source": [
    "# generate and plot generated noise samples\n",
    "g_model = generator_model(latent_size)\n",
    "\n",
    "n_samples = 25\n",
    "X, _ = generate_fake_samples(g_model, latent_size, n_samples)\n",
    "\n",
    "for i in range(n_samples):\n",
    "    plt.subplot(5, 5, 1 + i)\n",
    "    plt.axis('off')\n",
    "    plt.imshow(X[i, :, :, 0], cmap='gray_r')\n",
    "plt.show()\n",
    "print(X[1,:,:,0].shape)"
   ]
  },
  {
   "cell_type": "markdown",
   "metadata": {},
   "source": [
    "## 5) GAN model and training\n",
    "\n",
    "### Task\n",
    "Define the GAN, combining the discriminator and the generator model, and choosing the appropriate loss again for our LSGAN. "
   ]
  },
  {
   "cell_type": "code",
   "execution_count": null,
   "metadata": {},
   "outputs": [],
   "source": [
    "def define_lsgan(g_model, d_model):\n",
    "    # make weights in the discriminator not trainable\n",
    "    d_model.trainable = False\n",
    "    # connect them\n",
    "    model = keras.models.Sequential()\n",
    "    # add generator\n",
    "    model.add(g_model)\n",
    "    # add the discriminator\n",
    "    model.add(d_model)\n",
    "    # compile model\n",
    "    opt = keras.optimizers.Adam(lr=0.002, beta_1=0.5)\n",
    "    model.compile(loss='mse', optimizer=opt)\n",
    "    return model"
   ]
  },
  {
   "cell_type": "code",
   "execution_count": null,
   "metadata": {},
   "outputs": [],
   "source": [
    "# auxiliaries\n",
    "\n",
    "def save_plot(examples, epoch, n=2):\n",
    "    # plot images\n",
    "    for i in range(n * n):\n",
    "        # define subplot\n",
    "        plt.subplot(n, n, 1 + i)\n",
    "        # turn off axis\n",
    "        plt.axis('off')\n",
    "        # plot raw pixel data\n",
    "        plt.imshow(examples[i, :, :, 0], cmap='gray')\n",
    "    # save plot to file\n",
    "    filename = 'generated_plot_e%03d.png' % (epoch+1)\n",
    "    plt.savefig(filename)\n",
    "    plt.close()\n",
    "\n",
    "def summarize_performance(epoch, g_model, d_model, dataset, latent_dim, n_samples=100):\n",
    "    # prepare real samples\n",
    "    X_real, y_real = generate_real_samples(dataset, n_samples)\n",
    "    # evaluate discriminator on real examples\n",
    "    _, acc_real = d_model.evaluate(X_real, y_real, verbose=0)\n",
    "    # prepare fake examples\n",
    "    x_fake, y_fake = generate_fake_samples(g_model, latent_dim, n_samples)\n",
    "    # evaluate discriminator on fake examples\n",
    "    _, acc_fake = d_model.evaluate(x_fake, y_fake, verbose=0)\n",
    "    # save plot\n",
    "    save_plot(x_fake, epoch)\n",
    "    # save the generator model tile file\n",
    "    filename = 'generator_model_n%03d.h5' % (epoch + 1)\n",
    "    g_model.save(filename)"
   ]
  },
  {
   "cell_type": "code",
   "execution_count": null,
   "metadata": {},
   "outputs": [],
   "source": [
    "# training function\n",
    "def train(g_model, d_model, gan_model, dataset, latent_dim, n_epochs=20, n_batch=500):\n",
    "    bat_per_epo = int(dataset.shape[0] / n_batch)\n",
    "    half_batch = int(n_batch / 2)\n",
    "    \n",
    "    for i in range(n_epochs):\n",
    "        \n",
    "        # enumerate batches over the training set\n",
    "        for j in range(bat_per_epo):\n",
    "            # get randomly selected 'real' samples\n",
    "            X_real, y_real = generate_real_samples(dataset, half_batch)\n",
    "            # generate 'fake' examples\n",
    "            X_fake, y_fake = generate_fake_samples(g_model, latent_dim, half_batch)\n",
    "            \n",
    "            # create training set for the discriminator\n",
    "            X, y = np.vstack((X_real, X_fake)), np.vstack((y_real, y_fake))\n",
    "            # update discriminator model weights\n",
    "            d_loss, _ = d_model.train_on_batch(X, y)\n",
    "            \n",
    "            # prepare points in latent space as input for the generator\n",
    "            X_gan = generate_latent_points(latent_dim, n_batch)\n",
    "            # create labels for the fake samples \n",
    "            y_gan = np.ones((n_batch, 1))\n",
    "            \n",
    "            # update (train) the generator\n",
    "            g_loss = gan_model.train_on_batch(X_gan, y_gan)\n",
    "            \n",
    "            # summarize loss on this batch\n",
    "            print('epoch %d, batch %d/%d, loss d=%.3f, loss g=%.3f' % (i+1, j+1, bat_per_epo, d_loss, g_loss))\n",
    "        save_plot(X_fake, i)"
   ]
  },
  {
   "cell_type": "markdown",
   "metadata": {},
   "source": [
    "### Task\n",
    "Judge when the training starts to converge. What can and should be improved in order to create better images?"
   ]
  },
  {
   "cell_type": "code",
   "execution_count": null,
   "metadata": {},
   "outputs": [],
   "source": [
    "latent_dim = 100\n",
    "# create the discriminator\n",
    "d_model = discriminator_model()\n",
    "# create the generator\n",
    "g_model = generator_model(latent_dim)\n",
    "# create the gan\n",
    "gan_model = define_lsgan(g_model, d_model)\n",
    "\n",
    "# load image data\n",
    "dataset = np.array(resizedimages)\n",
    "\n",
    "# train model\n",
    "n_epochs = 10\n",
    "train(g_model, d_model, gan_model, dataset, latent_dim, n_epochs)"
   ]
  },
  {
   "cell_type": "markdown",
   "metadata": {},
   "source": [
    "### Task\n",
    "Have a loog at images generated with your trained model, and compare with the LSGAN based on the model 'lsgan.h5' provided. Crucial changes made in order to improve the trained model include: a) larger training sample, b) larger latent space, c) adaptive learning rate, d) smaller batch size, e) more epochs. "
   ]
  },
  {
   "cell_type": "code",
   "execution_count": null,
   "metadata": {
    "scrolled": true
   },
   "outputs": [],
   "source": [
    "# generate samples for model just trained OR saved model\n",
    "n_axis = 3\n",
    "n_samples = n_axis*n_axis\n",
    "latent_dim = 10000\n",
    "do_load = False\n",
    "if do_load:\n",
    "    g_model = keras.models.load_model('lsgan.h5')\n",
    "    # or load a previous old model of yours here, e.g.:\n",
    "    #g_model = keras.models.load_model('generator_model_n020.h5')\n",
    "X, _ = generate_fake_samples(g_model, latent_dim, n_samples)\n",
    "# plot the generated samples\n",
    "for i in range(n_samples):\n",
    "    # define subplot\n",
    "    plt.subplot(n_axis, n_axis, 1 + i)\n",
    "    # turn off axis labels\n",
    "    plt.axis('off')\n",
    "    plt.imshow(X[i, :, :, 0], cmap='gray')\n",
    "plt.show()"
   ]
  },
  {
   "cell_type": "code",
   "execution_count": null,
   "metadata": {},
   "outputs": [],
   "source": []
  }
 ],
 "metadata": {
  "kernelspec": {
   "display_name": "Python 3",
   "language": "python",
   "name": "python3"
  },
  "language_info": {
   "codemirror_mode": {
    "name": "ipython",
    "version": 3
   },
   "file_extension": ".py",
   "mimetype": "text/x-python",
   "name": "python",
   "nbconvert_exporter": "python",
   "pygments_lexer": "ipython3",
   "version": "3.6.10"
  }
 },
 "nbformat": 4,
 "nbformat_minor": 4
}
